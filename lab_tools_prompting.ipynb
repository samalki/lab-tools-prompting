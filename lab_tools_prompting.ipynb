{
  "cells": [
    {
      "cell_type": "markdown",
      "id": "77f66dbe-192b-471c-9cb8-e9b365e61bbb",
      "metadata": {
        "id": "77f66dbe-192b-471c-9cb8-e9b365e61bbb"
      },
      "source": [
        "# Lab | Tools prompting\n",
        "\n",
        "**Replace the existing two tools decorators, by creating 3 new ones and adjust the prompts accordingly**"
      ]
    },
    {
      "cell_type": "markdown",
      "id": "14b94240",
      "metadata": {
        "id": "14b94240"
      },
      "source": [
        "### How to add ad-hoc tool calling capability to LLMs and Chat Models\n",
        "\n",
        ":::{.callout-caution}\n",
        "\n",
        "Some models have been fine-tuned for tool calling and provide a dedicated API for tool calling. Generally, such models are better at tool calling than non-fine-tuned models, and are recommended for use cases that require tool calling. Please see the [how to use a chat model to call tools](https://python.langchain.com/docs/how_to/tool_calling/) guide for more information.\n",
        "\n",
        "In this guide, we'll see how to add **ad-hoc** tool calling support to a chat model. This is an alternative method to invoke tools if you're using a model that does not natively support tool calling.\n",
        "\n",
        "We'll do this by simply writing a prompt that will get the model to invoke the appropriate tools. Here's a diagram of the logic:\n",
        "\n",
        "<br>\n",
        "\n",
        "![chain](https://education-team-2020.s3.eu-west-1.amazonaws.com/ai-eng/tool_chain.svg)"
      ]
    },
    {
      "cell_type": "markdown",
      "id": "a0a22cb8-19e7-450a-9d1b-6848d2c81cd1",
      "metadata": {
        "id": "a0a22cb8-19e7-450a-9d1b-6848d2c81cd1"
      },
      "source": [
        "## Setup\n",
        "\n",
        "We'll need to install the following packages:"
      ]
    },
    {
      "cell_type": "code",
      "execution_count": 1,
      "id": "8c556c5e-b785-428b-8e7d-efd34a2a1adb",
      "metadata": {
        "colab": {
          "base_uri": "https://localhost:8080/"
        },
        "id": "8c556c5e-b785-428b-8e7d-efd34a2a1adb",
        "outputId": "80e9d937-2b4d-4978-fbb4-0ef35f6c3d20"
      },
      "outputs": [
        {
          "output_type": "stream",
          "name": "stdout",
          "text": [
            "\u001b[2K   \u001b[90m━━━━━━━━━━━━━━━━━━━━━━━━━━━━━━━━━━━━━━━━\u001b[0m \u001b[32m2.5/2.5 MB\u001b[0m \u001b[31m18.0 MB/s\u001b[0m eta \u001b[36m0:00:00\u001b[0m\n",
            "\u001b[2K   \u001b[90m━━━━━━━━━━━━━━━━━━━━━━━━━━━━━━━━━━━━━━━━\u001b[0m \u001b[32m62.4/62.4 kB\u001b[0m \u001b[31m2.9 MB/s\u001b[0m eta \u001b[36m0:00:00\u001b[0m\n",
            "\u001b[2K   \u001b[90m━━━━━━━━━━━━━━━━━━━━━━━━━━━━━━━━━━━━━━━━\u001b[0m \u001b[32m433.9/433.9 kB\u001b[0m \u001b[31m16.2 MB/s\u001b[0m eta \u001b[36m0:00:00\u001b[0m\n",
            "\u001b[2K   \u001b[90m━━━━━━━━━━━━━━━━━━━━━━━━━━━━━━━━━━━━━━━━\u001b[0m \u001b[32m44.4/44.4 kB\u001b[0m \u001b[31m2.3 MB/s\u001b[0m eta \u001b[36m0:00:00\u001b[0m\n",
            "\u001b[2K   \u001b[90m━━━━━━━━━━━━━━━━━━━━━━━━━━━━━━━━━━━━━━━━\u001b[0m \u001b[32m1.2/1.2 MB\u001b[0m \u001b[31m13.8 MB/s\u001b[0m eta \u001b[36m0:00:00\u001b[0m\n",
            "\u001b[2K   \u001b[90m━━━━━━━━━━━━━━━━━━━━━━━━━━━━━━━━━━━━━━━━\u001b[0m \u001b[32m50.9/50.9 kB\u001b[0m \u001b[31m1.5 MB/s\u001b[0m eta \u001b[36m0:00:00\u001b[0m\n",
            "\u001b[?25h"
          ]
        }
      ],
      "source": [
        "%pip install --upgrade --quiet langchain langchain-community langchain_openai"
      ]
    },
    {
      "cell_type": "markdown",
      "id": "897bc01e-cc2b-4400-8a64-db4aa56085d3",
      "metadata": {
        "id": "897bc01e-cc2b-4400-8a64-db4aa56085d3"
      },
      "source": [
        "If you'd like to use LangSmith, uncomment the below:"
      ]
    },
    {
      "cell_type": "code",
      "execution_count": 2,
      "id": "5efb4170-b95b-4d29-8f57-09509f3ba6df",
      "metadata": {
        "id": "5efb4170-b95b-4d29-8f57-09509f3ba6df"
      },
      "outputs": [],
      "source": [
        "import getpass\n",
        "import os\n",
        "# os.environ[\"LANGCHAIN_TRACING_V2\"] = \"true\"\n",
        "# os.environ[\"LANGCHAIN_API_KEY\"] = getpass.getpass()"
      ]
    },
    {
      "cell_type": "markdown",
      "id": "7ec6409b-21e5-4d0a-8a46-c4ef0b055dd3",
      "metadata": {
        "id": "7ec6409b-21e5-4d0a-8a46-c4ef0b055dd3"
      },
      "source": [
        "You can select any of the given models for this how-to guide. Keep in mind that most of these models already [support native tool calling](https://python.langchain.com/docs/integrations/chat), so using the prompting strategy shown here doesn't make sense for these models, and instead you should follow the [how to use a chat model to call tools](https://python.langchain.com/docs/how_to/tool_calling/) guide.\n",
        "\n",
        "```{=mdx}\n",
        "import ChatModelTabs from \"@theme/ChatModelTabs\";\n",
        "\n",
        "<ChatModelTabs openaiParams={`model=\"gpt-4\"`} />\n",
        "```\n",
        "\n",
        "To illustrate the idea, we'll use `phi3` via Ollama, which does **NOT** have native support for tool calling. If you'd like to use `Ollama` as well follow [these instructions](https://python.langchain.com/docs/integrations/chat/ollama)."
      ]
    },
    {
      "cell_type": "code",
      "execution_count": 8,
      "id": "424be968-2806-4d1a-a6aa-5499ae20fac5",
      "metadata": {
        "id": "424be968-2806-4d1a-a6aa-5499ae20fac5"
      },
      "outputs": [],
      "source": [
        "from langchain_community.llms import Ollama\n",
        "\n",
        "model = Ollama(model=\"phi3\")"
      ]
    },
    {
      "cell_type": "code",
      "source": [
        "import os\n",
        "from getpass import getpass\n",
        "\n",
        "os.environ[\"OPENAI_API_KEY\"] = getpass(\"Enter your OpenAI API key: \")\n",
        "from langchain_openai import ChatOpenAI\n",
        "\n",
        "model = ChatOpenAI(model=\"gpt-3.5-turbo\")\n"
      ],
      "metadata": {
        "colab": {
          "base_uri": "https://localhost:8080/"
        },
        "id": "97z927sdAvGI",
        "outputId": "d672675c-0856-4255-d343-945d668ae2a8"
      },
      "id": "97z927sdAvGI",
      "execution_count": 16,
      "outputs": [
        {
          "name": "stdout",
          "output_type": "stream",
          "text": [
            "Enter your OpenAI API key: ··········\n"
          ]
        }
      ]
    },
    {
      "cell_type": "markdown",
      "id": "a88a1463",
      "metadata": {
        "id": "a88a1463"
      },
      "source": [
        "\n",
        "#  How to Install and Run Ollama with the Phi-3 Model\n",
        "\n",
        "This guide walks you through installing **Ollama** and running the **Phi-3** model on Windows, macOS, and Linux.\n",
        "\n",
        "---\n",
        "\n",
        "## Windows\n",
        "\n",
        "1. **Download Ollama for Windows**  \n",
        "   Go to: [https://ollama.com/download](https://ollama.com/download)  \n",
        "   Download and run the installer.\n",
        "\n",
        "2. **Verify Installation**  \n",
        "   Open **Command Prompt** and type:\n",
        "   ```bash\n",
        "   ollama --version\n",
        "   ```\n",
        "\n",
        "3. **Run the Phi-3 Model**  \n",
        "   In the same terminal:\n",
        "   ```bash\n",
        "   ollama run phi3\n",
        "   ```\n",
        "\n",
        "4. **If you get a CUDA error (GPU memory issue)**  \n",
        "   Run Ollama in **CPU mode**:\n",
        "   ```bash\n",
        "   set OLLAMA_NO_CUDA=1\n",
        "   ollama run phi3\n",
        "   ```\n",
        "\n",
        "---\n",
        "\n",
        "##  macOS\n",
        "\n",
        "1. **Install via Homebrew**  \n",
        "   Open the Terminal and run:\n",
        "   ```bash\n",
        "   brew install ollama\n",
        "   ```\n",
        "\n",
        "2. **Run the Phi-3 Model**\n",
        "   ```bash\n",
        "   ollama run phi3\n",
        "   ```\n",
        "\n",
        "3. **To force CPU mode (no GPU)**\n",
        "   ```bash\n",
        "   export OLLAMA_NO_CUDA=1\n",
        "   ollama run phi3\n",
        "   ```\n",
        "\n",
        "---\n",
        "\n",
        "##  Linux\n",
        "\n",
        "1. **Install Ollama**  \n",
        "   Open a terminal and run:\n",
        "   ```bash\n",
        "   curl -fsSL https://ollama.com/install.sh | sh\n",
        "   ```\n",
        "\n",
        "2. **Run the Phi-3 Model**\n",
        "   ```bash\n",
        "   ollama run phi3\n",
        "   ```\n",
        "\n",
        "3. **To force CPU mode (no GPU)**\n",
        "   ```bash\n",
        "   export OLLAMA_NO_CUDA=1\n",
        "   ollama run phi3\n",
        "   ```\n",
        "\n",
        "---\n",
        "\n",
        "##  Notes\n",
        "\n",
        "- The first time you run `ollama run phi3`, it will **download the model**, so make sure you’re connected to the internet.\n",
        "- Once downloaded, it works **offline**.\n",
        "- Keep the terminal open and running in the background while using Ollama from your code or notebook.\n"
      ]
    },
    {
      "cell_type": "markdown",
      "id": "68946881",
      "metadata": {
        "id": "68946881"
      },
      "source": [
        "## Create a tool\n",
        "\n",
        "First, let's create an `add` and `multiply` tools. For more information on creating custom tools, please see [this guide](https://python.langchain.com/docs/how_to/custom_tools/)."
      ]
    },
    {
      "cell_type": "code",
      "execution_count": 17,
      "id": "4548e6fa-0f9b-4d7a-8fa5-66cec0350e5f",
      "metadata": {
        "colab": {
          "base_uri": "https://localhost:8080/"
        },
        "id": "4548e6fa-0f9b-4d7a-8fa5-66cec0350e5f",
        "outputId": "32b90788-3bf2-4ac2-9f90-9ea13de47f26"
      },
      "outputs": [
        {
          "output_type": "stream",
          "name": "stdout",
          "text": [
            "--\n",
            "multiply\n",
            "Multiply two numbers together.\n",
            "{'x': {'title': 'X', 'type': 'number'}, 'y': {'title': 'Y', 'type': 'number'}}\n",
            "--\n",
            "add\n",
            "Add two numbers.\n",
            "{'x': {'title': 'X', 'type': 'integer'}, 'y': {'title': 'Y', 'type': 'integer'}}\n",
            "--\n",
            "subtract\n",
            "Subtract y from x.\n",
            "{'x': {'title': 'X', 'type': 'number'}, 'y': {'title': 'Y', 'type': 'number'}}\n"
          ]
        }
      ],
      "source": [
        "from langchain_core.tools import tool\n",
        "\n",
        "\n",
        "@tool\n",
        "def multiply(x: float, y: float) -> float:\n",
        "    \"\"\"Multiply two numbers together.\"\"\"\n",
        "    return x * y\n",
        "\n",
        "@tool\n",
        "def add(x: int, y: int) -> int:\n",
        "    \"Add two numbers.\"\n",
        "    return x + y\n",
        "\n",
        "@tool\n",
        "def subtract(x: float, y: float) -> float:\n",
        "    \"Subtract y from x.\"\n",
        "    return x - y\n",
        "\n",
        "tools = [multiply, add, subtract]\n",
        "\n",
        "\n",
        "# Let's inspect the tools\n",
        "for t in tools:\n",
        "    print(\"--\")\n",
        "    print(t.name)\n",
        "    print(t.description)\n",
        "    print(t.args)\n"
      ]
    },
    {
      "cell_type": "code",
      "execution_count": 18,
      "id": "be77e780",
      "metadata": {
        "colab": {
          "base_uri": "https://localhost:8080/"
        },
        "id": "be77e780",
        "outputId": "8d3c47a9-6a06-4f52-a8f5-331e53221e7a"
      },
      "outputs": [
        {
          "output_type": "execute_result",
          "data": {
            "text/plain": [
              "20.0"
            ]
          },
          "metadata": {},
          "execution_count": 18
        }
      ],
      "source": [
        "multiply.invoke({\"x\": 4, \"y\": 5})"
      ]
    },
    {
      "cell_type": "markdown",
      "id": "15dd690e-e54d-4209-91a4-181f69a452ac",
      "metadata": {
        "id": "15dd690e-e54d-4209-91a4-181f69a452ac"
      },
      "source": [
        "## Creating our prompt\n",
        "\n",
        "We'll want to write a prompt that specifies the tools the model has access to, the arguments to those tools, and the desired output format of the model. In this case we'll instruct it to output a JSON blob of the form `{\"name\": \"...\", \"arguments\": {...}}`."
      ]
    },
    {
      "cell_type": "code",
      "execution_count": 19,
      "id": "2063b564-25ca-4729-a45f-ba4633175b04",
      "metadata": {
        "colab": {
          "base_uri": "https://localhost:8080/"
        },
        "id": "2063b564-25ca-4729-a45f-ba4633175b04",
        "outputId": "d9cf09e7-9713-485d-8034-6a91d1021c85"
      },
      "outputs": [
        {
          "output_type": "stream",
          "name": "stdout",
          "text": [
            "multiply(x: float, y: float) -> float - Multiply two numbers together.\n",
            "add(x: int, y: int) -> int - Add two numbers.\n",
            "subtract(x: float, y: float) -> float - Subtract y from x.\n"
          ]
        }
      ],
      "source": [
        "from langchain_core.output_parsers import JsonOutputParser\n",
        "from langchain_core.prompts import ChatPromptTemplate\n",
        "from langchain_core.tools import render_text_description\n",
        "\n",
        "rendered_tools = render_text_description(tools)\n",
        "print(rendered_tools)"
      ]
    },
    {
      "cell_type": "code",
      "execution_count": 20,
      "id": "f02f1dce-76e7-4ca9-9bac-5af496131fe1",
      "metadata": {
        "id": "f02f1dce-76e7-4ca9-9bac-5af496131fe1"
      },
      "outputs": [],
      "source": [
        "from langchain_core.prompts import ChatPromptTemplate\n",
        "from langchain_core.tools import render_text_description\n",
        "\n",
        "rendered_tools = render_text_description(tools)\n",
        "\n",
        "system_prompt = f\"\"\"\\\n",
        "You are an assistant that has access to the following set of tools.\n",
        "Here are the names and descriptions for each tool:\n",
        "\n",
        "{rendered_tools}\n",
        "\n",
        "Given the user input, return the name and input of the tool to use.\n",
        "Return your response as a JSON blob with 'name' and 'arguments' keys.\n",
        "\n",
        "The `arguments` should be a dictionary, with keys corresponding\n",
        "to the argument names and the values corresponding to the requested values.\n",
        "\"\"\"\n",
        "\n",
        "prompt = ChatPromptTemplate.from_messages(\n",
        "    [(\"system\", system_prompt), (\"user\", \"{input}\")]\n",
        ")\n"
      ]
    },
    {
      "cell_type": "code",
      "execution_count": 21,
      "id": "f8623e03-60eb-4439-b57b-ecbcebc61b58",
      "metadata": {
        "colab": {
          "base_uri": "https://localhost:8080/"
        },
        "id": "f8623e03-60eb-4439-b57b-ecbcebc61b58",
        "outputId": "c4e73c4f-a4e6-4015-a421-140ef31b919d"
      },
      "outputs": [
        {
          "output_type": "stream",
          "name": "stdout",
          "text": [
            "{\n",
            "    \"name\": \"add\",\n",
            "    \"arguments\": {\n",
            "        \"x\": 3,\n",
            "        \"y\": 1132\n",
            "    }\n",
            "}\n"
          ]
        }
      ],
      "source": [
        "chain = prompt | model\n",
        "message = chain.invoke({\"input\": \"what's 3 plus 1132\"})\n",
        "\n",
        "if isinstance(message, str):\n",
        "    print(message)\n",
        "else:\n",
        "    print(message.content)\n"
      ]
    },
    {
      "cell_type": "markdown",
      "id": "14df2cd5-b6fa-4b10-892d-e8692c7931e5",
      "metadata": {
        "id": "14df2cd5-b6fa-4b10-892d-e8692c7931e5"
      },
      "source": [
        "## Adding an output parser\n",
        "\n",
        "We'll use the `JsonOutputParser` for parsing our models output to JSON."
      ]
    },
    {
      "cell_type": "code",
      "execution_count": 22,
      "id": "f129f5bd-127c-4c95-8f34-8f437da7ca8f",
      "metadata": {
        "colab": {
          "base_uri": "https://localhost:8080/"
        },
        "id": "f129f5bd-127c-4c95-8f34-8f437da7ca8f",
        "outputId": "0325ab2c-0b6a-4b66-fdb4-6370117f2095"
      },
      "outputs": [
        {
          "output_type": "execute_result",
          "data": {
            "text/plain": [
              "{'name': 'multiply', 'arguments': {'x': 13.0, 'y': 4.0}}"
            ]
          },
          "metadata": {},
          "execution_count": 22
        }
      ],
      "source": [
        "from langchain_core.output_parsers import JsonOutputParser\n",
        "\n",
        "chain = prompt | model | JsonOutputParser()\n",
        "chain.invoke({\"input\": \"what's thirteen times 4\"})"
      ]
    },
    {
      "cell_type": "markdown",
      "id": "e1f08255-f146-4f4a-be43-5c21c1d3ae83",
      "metadata": {
        "id": "e1f08255-f146-4f4a-be43-5c21c1d3ae83"
      },
      "source": [
        ":::{.callout-important}\n",
        "\n",
        "🎉 Amazing! 🎉 We now instructed our model on how to **request** that a tool be invoked.\n",
        "\n",
        "Now, let's create some logic to actually run the tool!\n",
        ":::"
      ]
    },
    {
      "cell_type": "markdown",
      "id": "8e29dd4c-8eb5-457f-92d1-8add076404dc",
      "metadata": {
        "id": "8e29dd4c-8eb5-457f-92d1-8add076404dc"
      },
      "source": [
        "## Invoking the tool 🏃\n",
        "\n",
        "Now that the model can request that a tool be invoked, we need to write a function that can actually invoke\n",
        "the tool.\n",
        "\n",
        "The function will select the appropriate tool by name, and pass to it the arguments chosen by the model."
      ]
    },
    {
      "cell_type": "code",
      "execution_count": 23,
      "id": "faee95e0-4095-4310-991f-9e9465c6738e",
      "metadata": {
        "id": "faee95e0-4095-4310-991f-9e9465c6738e"
      },
      "outputs": [],
      "source": [
        "from typing import Any, Dict, Optional, TypedDict\n",
        "\n",
        "from langchain_core.runnables import RunnableConfig\n",
        "\n",
        "\n",
        "class ToolCallRequest(TypedDict):\n",
        "    \"\"\"A typed dict that shows the inputs into the invoke_tool function.\"\"\"\n",
        "\n",
        "    name: str\n",
        "    arguments: Dict[str, Any]\n",
        "\n",
        "\n",
        "def invoke_tool(\n",
        "    tool_call_request: ToolCallRequest, config: Optional[RunnableConfig] = None\n",
        "):\n",
        "    \"\"\"A function that we can use the perform a tool invocation.\n",
        "\n",
        "    Args:\n",
        "        tool_call_request: a dict that contains the keys name and arguments.\n",
        "            The name must match the name of a tool that exists.\n",
        "            The arguments are the arguments to that tool.\n",
        "        config: This is configuration information that LangChain uses that contains\n",
        "            things like callbacks, metadata, etc.See LCEL documentation about RunnableConfig.\n",
        "\n",
        "    Returns:\n",
        "        output from the requested tool\n",
        "    \"\"\"\n",
        "    tool_name_to_tool = {tool.name: tool for tool in tools}\n",
        "    name = tool_call_request[\"name\"]\n",
        "    requested_tool = tool_name_to_tool[name]\n",
        "    return requested_tool.invoke(tool_call_request[\"arguments\"], config=config)"
      ]
    },
    {
      "cell_type": "markdown",
      "id": "f4957532-9e0c-47f6-bb62-0fd789ac1d3e",
      "metadata": {
        "id": "f4957532-9e0c-47f6-bb62-0fd789ac1d3e"
      },
      "source": [
        "Let's test this out 🧪!"
      ]
    },
    {
      "cell_type": "code",
      "execution_count": 24,
      "id": "d0ea3b2a-8fb2-4016-83c8-a5d3e78fedbc",
      "metadata": {
        "colab": {
          "base_uri": "https://localhost:8080/"
        },
        "id": "d0ea3b2a-8fb2-4016-83c8-a5d3e78fedbc",
        "outputId": "0b315b4a-79b5-44b6-cfcd-a1e5b5c84fb7"
      },
      "outputs": [
        {
          "output_type": "execute_result",
          "data": {
            "text/plain": [
              "15.0"
            ]
          },
          "metadata": {},
          "execution_count": 24
        }
      ],
      "source": [
        "invoke_tool({\"name\": \"multiply\", \"arguments\": {\"x\": 3, \"y\": 5}})"
      ]
    },
    {
      "cell_type": "markdown",
      "id": "715af6e1-935d-4bc0-a3d2-646ecf8a329b",
      "metadata": {
        "id": "715af6e1-935d-4bc0-a3d2-646ecf8a329b"
      },
      "source": [
        "## Let's put it together\n",
        "\n",
        "Let's put it together into a chain that creates a calculator with add and multiplication capabilities."
      ]
    },
    {
      "cell_type": "code",
      "execution_count": 25,
      "id": "0555b384-fde6-4404-86e0-7ea199003d58",
      "metadata": {
        "colab": {
          "base_uri": "https://localhost:8080/"
        },
        "id": "0555b384-fde6-4404-86e0-7ea199003d58",
        "outputId": "845da39a-df87-4c68-d020-ebc29fe1f0c4"
      },
      "outputs": [
        {
          "output_type": "execute_result",
          "data": {
            "text/plain": [
              "53.83784653"
            ]
          },
          "metadata": {},
          "execution_count": 25
        }
      ],
      "source": [
        "chain = prompt | model | JsonOutputParser() | invoke_tool\n",
        "chain.invoke({\"input\": \"what's thirteen times 4.14137281\"})"
      ]
    },
    {
      "cell_type": "markdown",
      "id": "b4a9c5aa-f60a-4017-af6f-1ff6e04bfb61",
      "metadata": {
        "id": "b4a9c5aa-f60a-4017-af6f-1ff6e04bfb61"
      },
      "source": [
        "## Returning tool inputs\n",
        "\n",
        "It can be helpful to return not only tool outputs but also tool inputs. We can easily do this with LCEL by `RunnablePassthrough.assign`-ing the tool output. This will take whatever the input is to the RunnablePassrthrough components (assumed to be a dictionary) and add a key to it while still passing through everything that's currently in the input:"
      ]
    },
    {
      "cell_type": "code",
      "execution_count": 26,
      "id": "45404406-859d-4caa-8b9d-5838162c80a0",
      "metadata": {
        "colab": {
          "base_uri": "https://localhost:8080/"
        },
        "id": "45404406-859d-4caa-8b9d-5838162c80a0",
        "outputId": "b0cac531-2a20-47ca-a3ab-5d1b728d1531"
      },
      "outputs": [
        {
          "output_type": "execute_result",
          "data": {
            "text/plain": [
              "{'name': 'multiply',\n",
              " 'arguments': {'x': 13, 'y': 4.14137281},\n",
              " 'output': 53.83784653}"
            ]
          },
          "metadata": {},
          "execution_count": 26
        }
      ],
      "source": [
        "from langchain_core.runnables import RunnablePassthrough\n",
        "\n",
        "chain = (\n",
        "    prompt | model | JsonOutputParser() | RunnablePassthrough.assign(output=invoke_tool)\n",
        ")\n",
        "chain.invoke({\"input\": \"what's thirteen times 4.14137281\"})"
      ]
    },
    {
      "cell_type": "markdown",
      "id": "1797fe82-ea35-4cba-834a-1caf9740d184",
      "metadata": {
        "id": "1797fe82-ea35-4cba-834a-1caf9740d184"
      },
      "source": [
        "## What's next?\n",
        "\n",
        "This how-to guide shows the \"happy path\" when the model correctly outputs all the required tool information.\n",
        "\n",
        "In reality, if you're using more complex tools, you will start encountering errors from the model, especially for models that have not been fine tuned for tool calling and for less capable models.\n",
        "\n",
        "You will need to be prepared to add strategies to improve the output from the model; e.g.,\n",
        "\n",
        "1. Provide few shot examples.\n",
        "2. Add error handling (e.g., catch the exception and feed it back to the LLM to ask it to correct its previous output)."
      ]
    },
    {
      "cell_type": "code",
      "source": [
        "few_shot_examples = \"\"\"\n",
        "Example 1:\n",
        "User input: what is 5 plus 2?\n",
        "Output: {\"name\": \"add\", \"arguments\": {\"x\": 5, \"y\": 2}}\n",
        "\n",
        "Example 2:\n",
        "User input: multiply 3 and 4\n",
        "Output: {\"name\": \"multiply\", \"arguments\": {\"x\": 3, \"y\": 4}}\n",
        "\n",
        "Example 3:\n",
        "User input: what's 7 times 8?\n",
        "Output: {\"name\": \"multiply\", \"arguments\": {\"x\": 7, \"y\": 8}}\n",
        "\"\"\"\n",
        "\n",
        "system_prompt = f\"\"\"\n",
        "You are an assistant that has access to the following set of tools.\n",
        "Here are the names and descriptions for each tool:\n",
        "\n",
        "{rendered_tools}\n",
        "\n",
        "Given the user input, return the name and input of the tool to use.\n",
        "Return your response as a JSON blob with 'name' and 'arguments' keys.\n",
        "\n",
        "The `arguments` should be a dictionary, with keys corresponding\n",
        "to the argument names and the values corresponding to the requested values.\n",
        "\n",
        "Use the examples below as guidance:\n",
        "{few_shot_examples}\n",
        "\"\"\"\n"
      ],
      "metadata": {
        "id": "lgqXgnO4CaTT"
      },
      "id": "lgqXgnO4CaTT",
      "execution_count": 27,
      "outputs": []
    },
    {
      "cell_type": "code",
      "source": [
        "def safe_invoke_tool(tool_call_request: dict):\n",
        "    try:\n",
        "        return invoke_tool(tool_call_request)\n",
        "    except Exception as e:\n",
        "        print(\"❌ Error during tool invocation:\", str(e))\n",
        "        return {\"error\": str(e), \"tool_call_request\": tool_call_request}\n"
      ],
      "metadata": {
        "id": "aLBeSxzLCerS"
      },
      "id": "aLBeSxzLCerS",
      "execution_count": 28,
      "outputs": []
    },
    {
      "cell_type": "code",
      "source": [
        "chain = (\n",
        "    prompt |\n",
        "    model |\n",
        "    JsonOutputParser() |\n",
        "    RunnablePassthrough.assign(output=safe_invoke_tool)\n",
        ")\n"
      ],
      "metadata": {
        "id": "tP9zT77hCg_p"
      },
      "id": "tP9zT77hCg_p",
      "execution_count": 29,
      "outputs": []
    },
    {
      "cell_type": "code",
      "source": [
        "@tool\n",
        "def subtract(x: float, y: float) -> float:\n",
        "    \"\"\"Subtract y from x.\"\"\"\n",
        "    return x - y\n",
        "@tool\n",
        "def divide(x: float, y: float) -> float:\n",
        "    \"\"\"Divide x by y.\"\"\"\n",
        "    if y == 0:\n",
        "        raise ValueError(\"Cannot divide by zero.\")\n",
        "    return x / y\n",
        "import math\n",
        "\n",
        "@tool\n",
        "def sqrt(x: float) -> float:\n",
        "    \"\"\"Compute the square root of a number.\"\"\"\n",
        "    if x < 0:\n",
        "        raise ValueError(\"Cannot take sqrt of a negative number.\")\n",
        "    return math.sqrt(x)\n"
      ],
      "metadata": {
        "id": "ggIDR5vOCuvz"
      },
      "id": "ggIDR5vOCuvz",
      "execution_count": 30,
      "outputs": []
    },
    {
      "cell_type": "code",
      "source": [
        "tools = [add, multiply, subtract, divide, sqrt]\n"
      ],
      "metadata": {
        "id": "aHjjmdxfC2a-"
      },
      "id": "aHjjmdxfC2a-",
      "execution_count": 31,
      "outputs": []
    },
    {
      "cell_type": "code",
      "source": [
        "rendered_tools = render_text_description(tools)\n"
      ],
      "metadata": {
        "id": "yLGoxMWcC4qd"
      },
      "id": "yLGoxMWcC4qd",
      "execution_count": 32,
      "outputs": []
    },
    {
      "cell_type": "code",
      "source": [
        "chain.invoke({\"input\": \"what's 144 divided by 12\"})\n",
        "chain.invoke({\"input\": \"what is the square root of 64\"})\n",
        "chain.invoke({\"input\": \"what's 78 minus 9.5\"})\n"
      ],
      "metadata": {
        "colab": {
          "base_uri": "https://localhost:8080/"
        },
        "id": "-fKXnXoxDrJe",
        "outputId": "d322f426-f83b-425a-e5aa-4d9aa9b619d2"
      },
      "id": "-fKXnXoxDrJe",
      "execution_count": 33,
      "outputs": [
        {
          "output_type": "execute_result",
          "data": {
            "text/plain": [
              "{'name': 'subtract', 'arguments': {'x': 78, 'y': 9.5}, 'output': 68.5}"
            ]
          },
          "metadata": {},
          "execution_count": 33
        }
      ]
    }
  ],
  "metadata": {
    "kernelspec": {
      "display_name": ".venv",
      "language": "python",
      "name": "python3"
    },
    "language_info": {
      "codemirror_mode": {
        "name": "ipython",
        "version": 3
      },
      "file_extension": ".py",
      "mimetype": "text/x-python",
      "name": "python",
      "nbconvert_exporter": "python",
      "pygments_lexer": "ipython3",
      "version": "3.12.9"
    },
    "colab": {
      "provenance": []
    }
  },
  "nbformat": 4,
  "nbformat_minor": 5
}